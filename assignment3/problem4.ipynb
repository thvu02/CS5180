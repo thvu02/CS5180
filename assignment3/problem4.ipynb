{
 "cells": [
  {
   "cell_type": "code",
   "execution_count": 149,
   "metadata": {},
   "outputs": [],
   "source": [
    "from urllib.request import urlopen\n",
    "from bs4 import BeautifulSoup\n",
    "import regex as re\n",
    "\n",
    "with open(\"problem4_input.html\") as input:\n",
    "    bs = BeautifulSoup(input, 'html.parser')"
   ]
  },
  {
   "cell_type": "code",
   "execution_count": 150,
   "metadata": {},
   "outputs": [
    {
     "name": "stdout",
     "output_type": "stream",
     "text": [
      "My first web page\n"
     ]
    }
   ],
   "source": [
    "# 4a: The text of the HTML page title. Use the HTML tags to do this search\n",
    "print(bs.title.get_text())"
   ]
  },
  {
   "cell_type": "code",
   "execution_count": 151,
   "metadata": {},
   "outputs": [
    {
     "name": "stdout",
     "output_type": "stream",
     "text": [
      "To my friends\n"
     ]
    }
   ],
   "source": [
    "# 4b:  The text of the second list item element \"li\" below \"To show off\"? Use the HTML tags\n",
    "#      to do this search. The output should be \"To my friends\"\n",
    "print(bs.find('ol').find_all('li')[1].get_text())"
   ]
  },
  {
   "cell_type": "code",
   "execution_count": 152,
   "metadata": {},
   "outputs": [
    {
     "name": "stdout",
     "output_type": "stream",
     "text": [
      "[<td>Row 1, cell 1</td>, <td>Row 1, cell 2<img src=\"http://www.bbb.com/badge2.gif\"/></td>, <td>Row 1, cell 3</td>]\n"
     ]
    }
   ],
   "source": [
    "# 4c: All cells of the first row of the table. Use the HTML tags to do this search.\n",
    "print(bs.find('tr').find_all('td'))"
   ]
  },
  {
   "cell_type": "code",
   "execution_count": 153,
   "metadata": {},
   "outputs": [
    {
     "name": "stdout",
     "output_type": "stream",
     "text": [
      "['What this is tutorial']\n"
     ]
    }
   ],
   "source": [
    "# 4d: All h2 headings text that includes the word “tutorial”. Use the HTML tags and regex to do this search\n",
    "print([item.get_text() for item in bs.find_all('h2', string=re.compile('.*tutorial.*'))])"
   ]
  },
  {
   "cell_type": "code",
   "execution_count": 154,
   "metadata": {},
   "outputs": [
    {
     "name": "stdout",
     "output_type": "stream",
     "text": [
      "['A simple page put together using HTML. ', 'To learn HTML', 'Because I have fallen in love with my computer and want to give her some HTML loving.']\n"
     ]
    }
   ],
   "source": [
    "# 4e: All text that includes the “HTML” word. Use the HTML text to do this search.\n",
    "print(bs.find_all(string=re.compile('.*HTML.*')))"
   ]
  },
  {
   "cell_type": "code",
   "execution_count": 155,
   "metadata": {},
   "outputs": [
    {
     "name": "stdout",
     "output_type": "stream",
     "text": [
      "['Row 2, cell 1', 'Row 2, cell 2', 'Row 2, cell 3']\n"
     ]
    }
   ],
   "source": [
    "# 4f: All cells text of the second row of the table. Use the HTML tags to do this search\n",
    "print([item.get_text() for item in bs.find_all('tr')[1].find_all('td')])"
   ]
  },
  {
   "cell_type": "code",
   "execution_count": 156,
   "metadata": {},
   "outputs": [
    {
     "name": "stdout",
     "output_type": "stream",
     "text": [
      "['http://www.bbb.com/badge2.gif', 'http://www.ccc.com/badge3.gif']\n",
      "[<img src=\"http://www.bbb.com/badge2.gif\"/>, <img src=\"http://www.ccc.com/badge3.gif\"/>]\n"
     ]
    }
   ],
   "source": [
    "#4g: All images from the table. Use the HTML tags to do this search\n",
    "print([item['src'] for item in bs.find('table').find_all('img')]) # urls only\n",
    "print(bs.find('table').find_all('img'))                           # full tag"
   ]
  }
 ],
 "metadata": {
  "kernelspec": {
   "display_name": "chatbot",
   "language": "python",
   "name": "python3"
  },
  "language_info": {
   "codemirror_mode": {
    "name": "ipython",
    "version": 3
   },
   "file_extension": ".py",
   "mimetype": "text/x-python",
   "name": "python",
   "nbconvert_exporter": "python",
   "pygments_lexer": "ipython3",
   "version": "3.12.7"
  }
 },
 "nbformat": 4,
 "nbformat_minor": 2
}
